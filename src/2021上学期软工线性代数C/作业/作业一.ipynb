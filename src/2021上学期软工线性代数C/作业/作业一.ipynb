{
 "cells": [
  {
   "cell_type": "markdown",
   "metadata": {
    "collapsed": false
   },
   "source": [
    "### 1. 计算代数余子式 \n",
    "已知：$D = \\left| {\\begin{array}{c}\n",
    "2021&2022&2023\\\\\n",
    "3&1&2\\\\\n",
    "2&3&1\n",
    "\\end{array}} \\right|$\n",
    "求$2021{A_{21}} + 2022{A_{22}} + 2023{A_{23}}$"
   ]
  },
  {
   "cell_type": "markdown",
   "metadata": {
    "collapsed": false
   },
   "source": [
    "### 2. 计算行列式\n",
    "\n",
    "（1）$D = \\left| {\\begin{array}{c}\n",
    "0&1&1&1\\\\\n",
    "1&0&1&1\\\\\n",
    "1&1&0&1\\\\\n",
    "1&1&1&0\n",
    "\\end{array}} \\right|$"
   ]
  },
  {
   "cell_type": "markdown",
   "metadata": {
    "collapsed": false
   },
   "source": [
    "（2）$D = \\left| {\\begin{array}{c}\n",
    "1&2&3&4\\\\\n",
    "2&3&4&1\\\\\n",
    "3&4&1&2\\\\\n",
    "4&1&2&3\n",
    "\\end{array}} \\right|$"
   ]
  },
  {
   "cell_type": "markdown",
   "metadata": {
    "collapsed": false
   },
   "source": [
    "（3）$D = \\left| {\\begin{array}{c}\n",
    "{1 + {a_1}}&{{a_2}}&{{a_3}}& \\cdots &{{a_n}}\\\\\n",
    "{{a_1}}&{1 + {a_2}}&{{a_3}}& \\cdots &{{a_n}}\\\\\n",
    "{{a_1}}&{{a_2}}&{1 + {a_3}}& \\cdots &{{a_n}}\\\\\n",
    " \\cdots & \\cdots & \\cdots & \\cdots & \\cdots \\\\\n",
    "{{a_1}}&{{a_2}}&{{a_3}}& \\cdots &{1 + {a_n}}\n",
    "\\end{array}} \\right|$"
   ]
  }
 ],
 "metadata": {
  "kernelspec": {
   "display_name": "PaddlePaddle 2.1.2 (Python 3.5)",
   "language": "python",
   "name": "py35-paddle1.2.0"
  },
  "language_info": {
   "codemirror_mode": {
    "name": "ipython",
    "version": 3
   },
   "file_extension": ".py",
   "mimetype": "text/x-python",
   "name": "python",
   "nbconvert_exporter": "python",
   "pygments_lexer": "ipython3",
   "version": "3.7.4"
  }
 },
 "nbformat": 4,
 "nbformat_minor": 1
}
