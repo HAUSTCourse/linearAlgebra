{
 "cells": [
  {
   "cell_type": "markdown",
   "metadata": {},
   "source": [
    "# 习题课一"
   ]
  },
  {
   "cell_type": "markdown",
   "metadata": {},
   "source": [
    "## 例题  计算n阶行列式\n",
    "(1) $D_{n}=\\left|\\begin{array}{cccc}x & a & \\cdots & a \\\\ a & x & \\cdots & a \\\\ \\vdots & \\vdots & \\vdots & \\vdots \\\\ a & a & \\cdots & x\\end{array}\\right|$ (2) $D_{n}=\\left|\\begin{array}{cccc}a_{1}+x & a_{2} & \\cdots & a_{n} \\\\ a_{1} & a_{2}+x & \\cdots & a_{n} \\\\ \\vdots & \\vdots & \\vdots & \\vdots \\\\ a_{1} & a_{2} & \\cdots & a_{n}+x\\end{array}\\right|$\n",
    "(3) $D_{n}=\\left|\\begin{array}{cccc}1+a_{1} & 1 & \\cdots & 1 \\\\ 1 & 1+a_{2} & \\cdots & 1 \\\\ \\vdots & \\vdots & \\vdots & \\vdots \\\\ 1 & 1 & \\cdots & 1+a_{n}\\end{array}\\right|\\left(a_{i} \\neq 0, i=1,2, \\cdots, n\\right)$"
   ]
  },
  {
   "cell_type": "markdown",
   "metadata": {},
   "source": [
    "### （1）解：\n",
    "\n",
    "<details>\n",
    "<summary><font color='red'>点击我显示答案(可以自己先思考后看答案)。</font></summary>\n",
    "\n",
    "注意到行列式各行(列)元素之和等于$x+(n-1)a$,有<br>\n",
    "\n",
    "$D_{n} \\underset{i=2,3, \\cdots, n}{\\overset{c_1+c_i}{=}}\\left|\\begin{array}{cccc}x+(n-1) a & a & \\cdots & a \\\\ x+(n-1) a & x & \\cdots & a \\\\ \\vdots & \\vdots & \\vdots & \\vdots \\\\ x+(n-1) a & a & \\cdots & x\\end{array}\\right|=[x+(n-1) a]\\left|\\begin{array}{cccc}1 & a & \\cdots & a \\\\ 1 & x & \\cdots & a \\\\ \\vdots & \\vdots & \\vdots & \\vdots \\\\ 1 & a & \\cdots & x\\end{array}\\right|$\n",
    "$\\underset{i=2,3, \\cdots, n}{\\overset{r_i-r_1}{=}}[x+(n-1) a]\\left|\\begin{array}{cccc}1 & a & \\cdots & a \\\\ 0 & x-a & \\cdots & 0 \\\\ \\vdots & \\vdots & \\vdots & \\vdots \\\\ 0 & 0 & \\cdots & x-a\\end{array}\\right|$\n",
    "$=[x+(n-1) a](x-a)^{n-1}$\n",
    "\n",
    "</details>"
   ]
  },
  {
   "cell_type": "markdown",
   "metadata": {},
   "source": [
    "### （2）解：\n",
    "\n",
    "<details>\n",
    "<summary><font color='red'>点击我显示答案(可以自己先思考后看答案)。</font></summary>\n",
    "    \n",
    "$D_{n} \\underset{i=2,3, \\cdots, n}{\\overset{c_1+c_i}{=}}\\left|\\begin{array}{cccc}x+\\sum_{i=1}^{n} a_{i} & a_{2} & \\cdots & a_{n} \\\\ x+\\sum_{i=1}^{n} a_{i} & x+a_{2} & \\cdots & a_{n} \\\\ \\vdots & \\vdots & \\vdots & \\vdots \\\\ x+\\sum_{i=1}^{n} a_{i} & a_{2} & \\cdots & x+a_{n}\\end{array}\\right|=\\left(x+\\sum_{i=1}^{n} a_{i}\\right)\\left|\\begin{array}{cccc}1 & a_{2} & \\cdots & a_{n} \\\\ 1 & x+a_{2} & \\cdots & a_{n} \\\\ \\vdots & \\vdots & \\vdots & \\vdots \\\\ 1 & a_{2} & \\cdots & x+a_{n}\\end{array}\\right|$\n",
    "$\\underset{i=2,3, \\cdots, n}{\\overset{r_i-r_1}{=}}\\left(x+\\sum_{i=1}^{n} a_{i}\\right)\\left|\\begin{array}{cccc}1 & a_{2} & \\cdots & a_{n} \\\\ 0 & x & \\cdots & 0 \\\\ \\ldots & \\cdots & \\cdots & \\cdots \\\\ 0 & 0 & \\cdots & x\\end{array}\\right|=\\left(x+\\sum_{i=1}^{n} a_{i}\\right) x^{n-1}$\n",
    "\n",
    "</details>"
   ]
  },
  {
   "cell_type": "markdown",
   "metadata": {},
   "source": [
    "### （3）解：\n",
    "\n",
    "<details>\n",
    "<summary><font color='red'>点击我显示答案(可以自己先思考后看答案)。</font></summary>\n",
    "\n",
    "$D_n\\underset{i=2,3, \\cdots, n}{\\overset{r_{i}-r_{1}}{=}}\\left|\\begin{array}{ccccc}\n",
    "1+a_{1} & 1 & 1 & \\cdots & 1 \\\\\n",
    "-a_{1} & a_{2} & 0 & \\cdots & 0 \\\\\n",
    "-a_{1} & 0 & a_{3} & \\cdots & 0 \\\\\n",
    "\\vdots & \\vdots & \\vdots & \\vdots & \\vdots \\\\\n",
    "-a_{1} & 0 & 0 & \\cdots & a_{n}\n",
    "\\end{array}\\right|\\underset{i=2,3, \\cdots, n}{\\overset{c_{1}+\\frac{a_1}{a_i}c_{i}}{=}}\\left|\\begin{array}{cccc}\n",
    "1+a_{1}+\\sum_{i=2}^{n} \\frac{a_{1}}{a_{i}} & 1 & \\cdots & 1 \\\\\n",
    "0 & a_{2} & \\cdots & 0 \\\\\n",
    "\\vdots & \\vdots & & \\vdots \\\\\n",
    "0 & 0 & \\cdots & a_{n}\n",
    "\\end{array}\\right|$\n",
    "\n",
    "$=\\left(1+a_{1}+\\sum_{i=2}^{n} \\frac{a_{1}}{a_{i}}\\right) a_{2} \\cdots a_{n}=a_{1} a_{2} \\cdots a_{n}\\left(1+\\sum_{i=1}^{n} \\frac{1}{a_{i}}\\right)$\n",
    "\n",
    "</details>"
   ]
  },
  {
   "cell_type": "markdown",
   "metadata": {},
   "source": [
    "## 例题  证明：\n",
    "\n",
    "(1) $\\left|\\begin{array}{ccc}-a b & a c & a e \\\\ b d & -c d & d e \\\\ b f & c f & -e f\\end{array}\\right|=4 a b c d e f$"
   ]
  },
  {
   "cell_type": "markdown",
   "metadata": {},
   "source": [
    "### （1）解：\n",
    "\n",
    "<details>\n",
    "<summary><font color='red'>点击我显示答案(可以自己先思考后看答案)。</font></summary>\n",
    "\n",
    "左边 $= abcdef \\left|\\begin{array}{ccc}-1 & 1 & 1 \\\\ 1 & -1 & 1 \\\\ 1 & 1 & -1\\end{array}\\right| \\underset{r_{3}+r_{1}}{\\overset{r_{2}+r_{1}}{=}} a b c d e f\\left|\\begin{array}{ccc}-1 & 1 & 1 \\\\ 0 & 0 & 2 \\\\ 0 & 2 & 0\\end{array}\\right|$\n",
    "\n",
    "$\\stackrel{r_{2} \\leftrightarrow r_{3}}{=}- abcdef \\left|\\begin{array}{ccc}-1 & 1 & 1 \\\\ 0 & 2 & 0 \\\\ 0 & 0 & 2\\end{array}\\right|=4 a b c d e f=$ 右边\n",
    "\n",
    "</detials>"
   ]
  },
  {
   "cell_type": "markdown",
   "metadata": {},
   "source": [
    "(2) $\\left|\\begin{array}{llll}a^{2} & (a+1)^{2} & (a+2)^{2} & (a+3)^{2} \\\\ b^{2} & (b+1)^{2} & (b+2)^{2} & (b+3)^{2} \\\\ c^{2} & (c+1)^{2} & (c+2)^{2} & (c+3)^{2} \\\\ d^{2} & (d+1)^{2} & (d+2)^{2} & (d+3)^{2}\\end{array}\\right|=0$"
   ]
  },
  {
   "cell_type": "markdown",
   "metadata": {},
   "source": [
    "### （2）解： \n",
    "\n",
    "<details>\n",
    "<summary><font color='red'>点击我显示答案(可以自己先思考后看答案)。</font></summary>\n",
    "\n",
    "左边$\\underset{i=2,3,4}{\\overset{c_i-c_1}{=}}\\left|\\begin{array}{cccc}\n",
    "a^{2} & 2 a+1 & 4 a+4 & 6 a+9 \\\\\n",
    "b^{2} & 2 b+1 & 4 b+4 & 6 b+9 \\\\\n",
    "c^{2} & 2 c+1 & 4 c+4 & 6 c+9 \\\\\n",
    "d^{2} & 2 d+1 & 4 d+4 & 6 d+9\n",
    "\\end{array}\\right|\\underset{c_4-3c_2}{\\overset{c_3-2c_2}{=}}\\left|\\begin{array}{llll}\n",
    "a^{2} & 2 a+1 & 2 & 6 \\\\\n",
    "b^{2} & 2 b+1 & 2 & 6 \\\\\n",
    "c^{2} & 2 c+1 & 2 & 6 \\\\\n",
    "d^{2} & 2 d+1 & 2 & 6\n",
    "\\end{array}\\right|=0$\n",
    "\n",
    "</details>"
   ]
  },
  {
   "cell_type": "markdown",
   "metadata": {},
   "source": [
    "### 例题 计算行列式\n",
    "\n",
    "$D=\\left|\\begin{array}{cccc}\n",
    "1 & 2 & 0 & 0 \\\\\n",
    "3 & 4 & 0 & 0 \\\\\n",
    "0 & 0 & -1 & 3 \\\\\n",
    "0 & 0 & 5 & 1\n",
    "\\end{array}\\right|$"
   ]
  },
  {
   "cell_type": "markdown",
   "metadata": {},
   "source": [
    "### 解： \n",
    "\n",
    "<details>\n",
    "<summary><font color='red'>点击我显示答案(可以自己先思考后看答案)。</font></summary>\n",
    "\n",
    "$\\begin{aligned}\n",
    "D &=1 \\times\\left|\\begin{array}{rrr}\n",
    "4 & 0 & 0 \\\\\n",
    "0 & -1 & 3 \\\\\n",
    "0 & 5 & 1\n",
    "\\end{array}\\right|-3\\left|\\begin{array}{rrr}\n",
    "2 & 0 & 0 \\\\\n",
    "0 & -1 & 3 \\\\\n",
    "0 & 5 & 1\n",
    "\\end{array}\\right| \\\\\n",
    "&=1 \\times 4\\left|\\begin{array}{ll}\n",
    "-1 & 3 \\\\\n",
    "5 & 1\n",
    "\\end{array}\\right|-3 \\times 2\\left|\\begin{array}{ll}\n",
    "-1 & 3 \\\\\n",
    "5 & 1\n",
    "\\end{array}\\right|\\\\\n",
    "&=(1 \\times 4-3 \\times 2)\\left|\\begin{array}{ll}\n",
    "-1 & 3 \\\\\n",
    "5 & 1\n",
    "\\end{array}\\right|=\\left|\\begin{array}{ll}\n",
    "1 & 2 \\\\\n",
    "3 & 4\n",
    "\\end{array}\\right| \\times\\left|\\begin{array}{ll}\n",
    "-1 & 3 \\\\\n",
    "5 & 1\n",
    "\\end{array}\\right|=32\\end{aligned}$\n",
    "\n",
    "</details>"
   ]
  }
 ],
 "metadata": {
  "kernelspec": {
   "display_name": "Python 3",
   "language": "python",
   "name": "python3"
  },
  "language_info": {
   "codemirror_mode": {
    "name": "ipython",
    "version": 3
   },
   "file_extension": ".py",
   "mimetype": "text/x-python",
   "name": "python",
   "nbconvert_exporter": "python",
   "pygments_lexer": "ipython3",
   "version": "3.7.4"
  }
 },
 "nbformat": 4,
 "nbformat_minor": 1
}
